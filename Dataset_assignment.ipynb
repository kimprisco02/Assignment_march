{
 "cells": [
  {
   "cell_type": "code",
   "execution_count": 166,
   "id": "73193cf3-42cb-4947-b98d-d3e7e436f202",
   "metadata": {},
   "outputs": [],
   "source": [
    "import pandas as pd\n",
    "import numpy as np\n",
    "import matplotlib.pyplot as plt"
   ]
  },
  {
   "cell_type": "code",
   "execution_count": 191,
   "id": "c377df7c-eff5-4475-b063-13e10ad8da39",
   "metadata": {},
   "outputs": [],
   "source": [
    "data = {\n",
    "'Product_ID': [101, 102, 103, 104, 105, 106, 107, 108, 109, 110],\n",
    "'Product_Name': ['Laptop', 'Smartphone', 'Headphones','Blender','T-Shirt', 'Jeans', \"Microwave\", \"Table Lamp\",'sneakers','watch'],\n",
    "'Category': ['Electronics', 'Electronics', 'Electronics', 'Home Appliances','Clothing', 'Clothing', 'Home Appliances', 'Home Appliances', 'Clothing', 'Accessories'],\n",
    "'Units Sold': [50, 120, 200, 30, 150, 80, 40, 60, 90, 70],\n",
    "'Price Per_Unit': [1000,800, 50, 200, 20, 40, 300, 50, 80, 150]\n",
    "}\n",
    "\n",
    " "
   ]
  },
  {
   "cell_type": "code",
   "execution_count": 193,
   "id": "d67b601d-1998-4462-b34a-ca75b6bc2014",
   "metadata": {},
   "outputs": [],
   "source": [
    "df=pd.DataFrame(data)"
   ]
  },
  {
   "cell_type": "code",
   "execution_count": 195,
   "id": "98bbf2c6-b973-4efe-a574-14718afa5c0e",
   "metadata": {},
   "outputs": [],
   "source": [
    "Units_sold=[50, 120, 200, 30, 150, 80, 40, 60, 90, 70]\n",
    "Price_Per_Unit=[1000,800, 50, 200, 20, 40, 300, 50, 80, 150]"
   ]
  },
  {
   "cell_type": "code",
   "execution_count": 197,
   "id": "fd95673b-2612-40f3-bace-158c07781c34",
   "metadata": {},
   "outputs": [],
   "source": [
    "def product_value(list1,list2):\n",
    "    if len(list1) != len(list2):\n",
    "        return None\n",
    "    result=[] \n",
    "    for i in range(len(list1)):\n",
    "        product=list1[i]*list2[i]\n",
    "        result.append(product)\n",
    "    return result"
   ]
  },
  {
   "cell_type": "code",
   "execution_count": 199,
   "id": "a3453419-4bd1-4516-b069-69dde09cdc52",
   "metadata": {},
   "outputs": [],
   "source": [
    "Revenue=product_value(Units_sold,Price_Per_Unit)"
   ]
  },
  {
   "cell_type": "code",
   "execution_count": 201,
   "id": "75194557-d1a3-4c68-948f-45a5a081e313",
   "metadata": {},
   "outputs": [],
   "source": [
    "df['Revenue']=Revenue"
   ]
  },
  {
   "cell_type": "markdown",
   "id": "cfd00c5e-ff27-4371-b0ed-8b0d89a310da",
   "metadata": {},
   "source": [
    "## 2: Total revenue per category"
   ]
  },
  {
   "cell_type": "code",
   "execution_count": 270,
   "id": "0341fc34-6b49-4f4d-b04c-a585e9f02284",
   "metadata": {},
   "outputs": [
    {
     "data": {
      "text/plain": [
       "0        Electronics\n",
       "1        Electronics\n",
       "2        Electronics\n",
       "3    Home Appliances\n",
       "4           Clothing\n",
       "5           Clothing\n",
       "6    Home Appliances\n",
       "7    Home Appliances\n",
       "8           Clothing\n",
       "9        Accessories\n",
       "Name: Category, dtype: object"
      ]
     },
     "execution_count": 270,
     "metadata": {},
     "output_type": "execute_result"
    }
   ],
   "source": [
    "df.Category"
   ]
  },
  {
   "cell_type": "code",
   "execution_count": 272,
   "id": "052ddcbc-6fd8-43ec-a3e8-f18cd188788d",
   "metadata": {},
   "outputs": [],
   "source": [
    "total_revenue_per_category=df.groupby('Category')['Revenue'].sum()"
   ]
  },
  {
   "cell_type": "code",
   "execution_count": 274,
   "id": "789f5fe2-6f93-46e8-be9f-7665b2c522f3",
   "metadata": {},
   "outputs": [
    {
     "data": {
      "text/plain": [
       "Category\n",
       "Accessories         10500\n",
       "Clothing            13400\n",
       "Electronics        156000\n",
       "Home Appliances     21000\n",
       "Name: Revenue, dtype: int64"
      ]
     },
     "execution_count": 274,
     "metadata": {},
     "output_type": "execute_result"
    }
   ],
   "source": [
    "total_revenue_per_category"
   ]
  },
  {
   "cell_type": "markdown",
   "id": "b3b16a90-17e1-45d0-aa41-7654308b9c6f",
   "metadata": {},
   "source": [
    "## 3: Best selling product(in terms of unit sold)"
   ]
  },
  {
   "cell_type": "code",
   "execution_count": 277,
   "id": "254c2424-b677-4546-ad69-569399f69dfc",
   "metadata": {},
   "outputs": [],
   "source": [
    "product_sales=df.groupby('Product_Name')['Units Sold'].sum().reset_index()"
   ]
  },
  {
   "cell_type": "code",
   "execution_count": 279,
   "id": "eacfb8a7-8a74-40c3-94f3-f73f4b7bbb01",
   "metadata": {},
   "outputs": [],
   "source": [
    "best_selling=product_sales.sort_values('Units Sold',ascending=False)"
   ]
  },
  {
   "cell_type": "code",
   "execution_count": 281,
   "id": "e9f0f4fb-0d28-4e6f-9b6c-f1d1438e414e",
   "metadata": {},
   "outputs": [
    {
     "data": {
      "text/html": [
       "<div>\n",
       "<style scoped>\n",
       "    .dataframe tbody tr th:only-of-type {\n",
       "        vertical-align: middle;\n",
       "    }\n",
       "\n",
       "    .dataframe tbody tr th {\n",
       "        vertical-align: top;\n",
       "    }\n",
       "\n",
       "    .dataframe thead th {\n",
       "        text-align: right;\n",
       "    }\n",
       "</style>\n",
       "<table border=\"1\" class=\"dataframe\">\n",
       "  <thead>\n",
       "    <tr style=\"text-align: right;\">\n",
       "      <th></th>\n",
       "      <th>Product_Name</th>\n",
       "      <th>Units Sold</th>\n",
       "    </tr>\n",
       "  </thead>\n",
       "  <tbody>\n",
       "    <tr>\n",
       "      <th>1</th>\n",
       "      <td>Headphones</td>\n",
       "      <td>200</td>\n",
       "    </tr>\n",
       "    <tr>\n",
       "      <th>6</th>\n",
       "      <td>T-Shirt</td>\n",
       "      <td>150</td>\n",
       "    </tr>\n",
       "    <tr>\n",
       "      <th>5</th>\n",
       "      <td>Smartphone</td>\n",
       "      <td>120</td>\n",
       "    </tr>\n",
       "    <tr>\n",
       "      <th>8</th>\n",
       "      <td>sneakers</td>\n",
       "      <td>90</td>\n",
       "    </tr>\n",
       "    <tr>\n",
       "      <th>2</th>\n",
       "      <td>Jeans</td>\n",
       "      <td>80</td>\n",
       "    </tr>\n",
       "    <tr>\n",
       "      <th>9</th>\n",
       "      <td>watch</td>\n",
       "      <td>70</td>\n",
       "    </tr>\n",
       "    <tr>\n",
       "      <th>7</th>\n",
       "      <td>Table Lamp</td>\n",
       "      <td>60</td>\n",
       "    </tr>\n",
       "    <tr>\n",
       "      <th>3</th>\n",
       "      <td>Laptop</td>\n",
       "      <td>50</td>\n",
       "    </tr>\n",
       "    <tr>\n",
       "      <th>4</th>\n",
       "      <td>Microwave</td>\n",
       "      <td>40</td>\n",
       "    </tr>\n",
       "    <tr>\n",
       "      <th>0</th>\n",
       "      <td>Blender</td>\n",
       "      <td>30</td>\n",
       "    </tr>\n",
       "  </tbody>\n",
       "</table>\n",
       "</div>"
      ],
      "text/plain": [
       "  Product_Name  Units Sold\n",
       "1   Headphones         200\n",
       "6      T-Shirt         150\n",
       "5   Smartphone         120\n",
       "8     sneakers          90\n",
       "2        Jeans          80\n",
       "9        watch          70\n",
       "7   Table Lamp          60\n",
       "3       Laptop          50\n",
       "4    Microwave          40\n",
       "0      Blender          30"
      ]
     },
     "execution_count": 281,
     "metadata": {},
     "output_type": "execute_result"
    }
   ],
   "source": [
    "best_selling"
   ]
  },
  {
   "cell_type": "markdown",
   "id": "8ead7762-737b-4add-a0ae-3c605b01716e",
   "metadata": {},
   "source": [
    "## 2: visualize the total revenue per category using a bar chart"
   ]
  },
  {
   "cell_type": "code",
   "execution_count": 302,
   "id": "0cfc1408-df2f-4ebc-bf6e-5c4900a6e168",
   "metadata": {},
   "outputs": [
    {
     "data": {
      "text/plain": [
       "<BarContainer object of 10 artists>"
      ]
     },
     "execution_count": 302,
     "metadata": {},
     "output_type": "execute_result"
    },
    {
     "data": {
      "image/png": "[encoded data removed]",
      "text/plain": [
       "<Figure size 640x480 with 1 Axes>"
      ]
     },
     "metadata": {},
     "output_type": "display_data"
    }
   ],
   "source": [
    "plt.bar(df.Category,Revenue)"
   ]
  },
  {
   "cell_type": "code",
   "execution_count": 287,
   "id": "dc8d17be-874d-4196-9ebf-016b3a1be57f",
   "metadata": {},
   "outputs": [
    {
     "data": {
      "text/plain": [
       "0        Electronics\n",
       "1        Electronics\n",
       "2        Electronics\n",
       "3    Home Appliances\n",
       "4           Clothing\n",
       "5           Clothing\n",
       "6    Home Appliances\n",
       "7    Home Appliances\n",
       "8           Clothing\n",
       "9        Accessories\n",
       "Name: Category, dtype: object"
      ]
     },
     "execution_count": 287,
     "metadata": {},
     "output_type": "execute_result"
    }
   ],
   "source": [
    "df.Category"
   ]
  },
  {
   "cell_type": "code",
   "execution_count": 298,
   "id": "714d5a9e-1dd0-45bc-a293-ab5f231c9178",
   "metadata": {},
   "outputs": [
    {
     "ename": "TypeError",
     "evalue": "bar() missing 1 required positional argument: 'height'",
     "output_type": "error",
     "traceback": [
      "\u001b[1;31m---------------------------------------------------------------------------\u001b[0m",
      "\u001b[1;31mTypeError\u001b[0m                                 Traceback (most recent call last)",
      "Cell \u001b[1;32mIn[298], line 1\u001b[0m\n\u001b[1;32m----> 1\u001b[0m plt\u001b[38;5;241m.\u001b[39mbar(\u001b[38;5;124m\"\u001b[39m\u001b[38;5;124mtotal_revenue_per_category\u001b[39m\u001b[38;5;124m\"\u001b[39m)\n\u001b[0;32m      2\u001b[0m plt\u001b[38;5;241m.\u001b[39mxlable(\u001b[38;5;124m\"\u001b[39m\u001b[38;5;124mcategory\u001b[39m\u001b[38;5;124m\"\u001b[39m)\n\u001b[0;32m      3\u001b[0m plt\u001b[38;5;241m.\u001b[39mylable(\u001b[38;5;124m\"\u001b[39m\u001b[38;5;124mRevenue\u001b[39m\u001b[38;5;124m\"\u001b[39m)\n",
      "\u001b[1;31mTypeError\u001b[0m: bar() missing 1 required positional argument: 'height'"
     ]
    }
   ],
   "source": [
    "plt.bar(total_revenue_per_category)\n",
    "plt.xlable(\"category\")\n",
    "plt.ylable(\"Revenue\")"
   ]
  },
  {
   "cell_type": "code",
   "execution_count": null,
   "id": "a24d2cb7-69bc-4189-95f1-11ea483e92b8",
   "metadata": {},
   "outputs": [],
   "source": []
  }
 ],
 "metadata": {
  "kernelspec": {
   "display_name": "Python [conda env:base] *",
   "language": "python",
   "name": "conda-base-py"
  },
  "language_info": {
   "codemirror_mode": {
    "name": "ipython",
    "version": 3
   },
   "file_extension": ".py",
   "mimetype": "text/x-python",
   "name": "python",
   "nbconvert_exporter": "python",
   "pygments_lexer": "ipython3",
   "version": "3.12.7"
  }
 },
 "nbformat": 4,
 "nbformat_minor": 5
}
