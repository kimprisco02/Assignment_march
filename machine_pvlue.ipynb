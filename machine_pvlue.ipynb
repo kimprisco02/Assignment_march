{
 "cells": [
  {
   "cell_type": "code",
   "execution_count": 5,
   "id": "10b55132-93d7-4c70-9533-d58970110089",
   "metadata": {},
   "outputs": [],
   "source": [
    "from sklearn.neighbors  import KNeighborsClassifier\n",
    "from sklearn.datasets import load_breast_cancer"
   ]
  },
  {
   "cell_type": "code",
   "execution_count": 6,
   "id": "73993336-3a8e-41d8-a2e9-b0c6048ee406",
   "metadata": {},
   "outputs": [],
   "source": [
    "bunch = load_breast_cancer()"
   ]
  },
  {
   "cell_type": "code",
   "execution_count": 10,
   "id": "0fab237a-014d-4478-897d-99304b2e9888",
   "metadata": {},
   "outputs": [
    {
     "data": {
      "text/plain": [
       "array(['malignant', 'benign'], dtype='<U9')"
      ]
     },
     "execution_count": 10,
     "metadata": {},
     "output_type": "execute_result"
    }
   ],
   "source": [
    "bunch.target_names"
   ]
  },
  {
   "cell_type": "code",
   "execution_count": 13,
   "id": "017d5246-6a7d-4079-a210-a5c78785fee9",
   "metadata": {},
   "outputs": [],
   "source": [
    "y= bunch.target\n",
    "X= bunch.data"
   ]
  },
  {
   "cell_type": "code",
   "execution_count": 16,
   "id": "b88ad717-a9cd-4e31-bb41-082680caed3d",
   "metadata": {},
   "outputs": [
    {
     "data": {
      "text/plain": [
       "569"
      ]
     },
     "execution_count": 16,
     "metadata": {},
     "output_type": "execute_result"
    }
   ],
   "source": [
    "len(y)"
   ]
  },
  {
   "cell_type": "code",
   "execution_count": 19,
   "id": "f833aa4d-5b34-439c-8d50-331f6d647625",
   "metadata": {},
   "outputs": [
    {
     "data": {
      "text/plain": [
       "0.9472759226713533"
      ]
     },
     "execution_count": 19,
     "metadata": {},
     "output_type": "execute_result"
    }
   ],
   "source": [
    "knn_model = KNeighborsClassifier()\n",
    "knn_model.fit(X,y)\n",
    "y_pred=knn_model.predict(X)\n",
    "knn_model.score(X,y)"
   ]
  },
  {
   "cell_type": "code",
   "execution_count": 23,
   "id": "a5afec78-5182-4224-8e94-544f7aa7ad1e",
   "metadata": {},
   "outputs": [],
   "source": [
    "def knn_model(X,y,n=5):\n",
    "    model = KNeighborsClassifier(n)\n",
    "    model.fit(X,y)\n",
    "    score =model.score(X,y)\n",
    "    print(score)"
   ]
  },
  {
   "cell_type": "code",
   "execution_count": 26,
   "id": "c7fa436c-3ec2-4c2b-875b-7081017370db",
   "metadata": {},
   "outputs": [
    {
     "name": "stdout",
     "output_type": "stream",
     "text": [
      "0.9472759226713533\n"
     ]
    }
   ],
   "source": [
    "knn_model(X,y,5)"
   ]
  },
  {
   "cell_type": "code",
   "execution_count": 55,
   "id": "bb966304-d7b8-4712-93e4-eafbd3d1b2a0",
   "metadata": {},
   "outputs": [],
   "source": [
    "from sklearn.model_selection import train_test_split"
   ]
  },
  {
   "cell_type": "markdown",
   "id": "63c9c9e9-ce94-4ff2-b47d-9c0848694308",
   "metadata": {},
   "source": [
    "## when n=5 weight is uniform p range from 1 to 5"
   ]
  },
  {
   "cell_type": "code",
   "execution_count": 150,
   "id": "b0a39d50-8b68-4d18-b847-19a032b466be",
   "metadata": {},
   "outputs": [],
   "source": [
    "def knn_model(X,y,n=5):\n",
    "    X_train,X_test,y_train,y_test=train_test_split(X,y)\n",
    "    model = KNeighborsClassifier(n,p=2)\n",
    "    model.fit(X_train,y_train)\n",
    "    train_score =model.score(X_train,y_train)\n",
    "    test_score =model.score(X_test,y_test)\n",
    "    return train_score,test_score"
   ]
  },
  {
   "cell_type": "code",
   "execution_count": 152,
   "id": "38c8c0d2-6de9-420f-bd31-bbb1e19175a8",
   "metadata": {},
   "outputs": [
    {
     "data": {
      "text/plain": [
       "(0.9483568075117371, 0.9230769230769231)"
      ]
     },
     "execution_count": 152,
     "metadata": {},
     "output_type": "execute_result"
    }
   ],
   "source": [
    "knn_model(X,y)"
   ]
  },
  {
   "cell_type": "code",
   "execution_count": 154,
   "id": "2a461982-d2c1-4c6a-b261-e2f192555998",
   "metadata": {},
   "outputs": [
    {
     "name": "stdout",
     "output_type": "stream",
     "text": [
      "Train Scores : [0.9507042253521126, 0.9460093896713615, 0.9507042253521126, 0.9507042253521126]\n",
      "Test Scores : [0.9300699300699301, 0.958041958041958, 0.9230769230769231, 0.9370629370629371]\n"
     ]
    }
   ],
   "source": [
    "train_scores =[]\n",
    "test_scores=[]\n",
    "p_parameter=range(1,5)\n",
    "for p in p_parameter:\n",
    "    train_score,test_score=knn_model(X,y)\n",
    "    train_scores.append(train_score)\n",
    "    test_scores.append(test_score)\n",
    "print(f\"Train Scores : {train_scores}\")\n",
    "print(f\"Test Scores : {test_scores}\")"
   ]
  },
  {
   "cell_type": "markdown",
   "id": "6dd7903c-712d-4b4e-a04b-4db8bfe99fa8",
   "metadata": {},
   "source": [
    "## when n=5 weight is distance p range from 1 to 5"
   ]
  },
  {
   "cell_type": "code",
   "execution_count": 168,
   "id": "6fbb0127-e0e1-422b-a2b2-4df35fe2cbe7",
   "metadata": {},
   "outputs": [],
   "source": [
    "def knn_model(X,y,n=5):\n",
    "    X_train,X_test,y_train,y_test=train_test_split(X,y)\n",
    "    model = KNeighborsClassifier(n,p=1,weights='distance')\n",
    "    model.fit(X_train,y_train)\n",
    "    train_score =model.score(X_train,y_train)\n",
    "    test_score =model.score(X_test,y_test)\n",
    "    return train_score,test_score"
   ]
  },
  {
   "cell_type": "code",
   "execution_count": 172,
   "id": "54154445-d1cf-42b1-b730-dbc4fb1cf5d0",
   "metadata": {},
   "outputs": [
    {
     "name": "stdout",
     "output_type": "stream",
     "text": [
      "Train Scores : [1.0, 1.0, 1.0, 1.0]\n",
      "Test Scores : [0.9230769230769231, 0.9370629370629371, 0.916083916083916, 0.965034965034965]\n"
     ]
    }
   ],
   "source": [
    "train_scores =[]\n",
    "test_scores=[]\n",
    "p_parameter=range(1,5)\n",
    "for p in p_parameter:\n",
    "    train_score,test_score=knn_model(X,y)\n",
    "    train_scores.append(train_score)\n",
    "    test_scores.append(test_score)\n",
    "print(f\"Train Scores : {train_scores}\")\n",
    "print(f\"Test Scores : {test_scores}\")"
   ]
  },
  {
   "cell_type": "markdown",
   "id": "22c37652-79fd-40ac-8508-8c5106d56c15",
   "metadata": {},
   "source": [
    "## when n=4 weight is uniform p range 1 to 4"
   ]
  },
  {
   "cell_type": "code",
   "execution_count": 144,
   "id": "771d4658-d7fe-4061-8d84-50d218938e39",
   "metadata": {},
   "outputs": [],
   "source": [
    "def knn_model(X,y,n=4):\n",
    "    X_train,X_test,y_train,y_test=train_test_split(X,y)\n",
    "    model = KNeighborsClassifier(n,p=1)\n",
    "    model.fit(X_train,y_train)\n",
    "    train_score =model.score(X_train,y_train)\n",
    "    test_score =model.score(X_test,y_test)\n",
    "    return train_score,test_score"
   ]
  },
  {
   "cell_type": "code",
   "execution_count": 146,
   "id": "224aec1b-aa68-49a7-98d0-051fda30079c",
   "metadata": {},
   "outputs": [
    {
     "name": "stdout",
     "output_type": "stream",
     "text": [
      "Train Scores : [0.9413145539906104, 0.9624413145539906, 0.9483568075117371, 0.9507042253521126]\n",
      "Test Scores : [0.951048951048951, 0.916083916083916, 0.9440559440559441, 0.958041958041958]\n"
     ]
    }
   ],
   "source": [
    "train_scores =[]\n",
    "test_scores=[]\n",
    "p_parameter=range(1,5)\n",
    "for p in p_parameter:\n",
    "    train_score,test_score=knn_model(X,y)\n",
    "    train_scores.append(train_score)\n",
    "    test_scores.append(test_score)\n",
    "print(f\"Train Scores : {train_scores}\")\n",
    "print(f\"Test Scores : {test_scores}\")"
   ]
  },
  {
   "cell_type": "markdown",
   "id": "f7db5abc-b155-447a-b607-8d538bf7e185",
   "metadata": {},
   "source": [
    "## when n=4 weight is distance p range 1 to 4"
   ]
  },
  {
   "cell_type": "code",
   "execution_count": 164,
   "id": "190b7599-18fa-4573-ac7d-d269e084f960",
   "metadata": {},
   "outputs": [],
   "source": [
    "def knn_model(X,y,n=5):\n",
    "    X_train,X_test,y_train,y_test=train_test_split(X,y)\n",
    "    model = KNeighborsClassifier(n,p=1,weights='distance')\n",
    "    model.fit(X_train,y_train)\n",
    "    train_score =model.score(X_train,y_train)\n",
    "    test_score =model.score(X_test,y_test)\n",
    "    return train_score,test_score"
   ]
  },
  {
   "cell_type": "code",
   "execution_count": 166,
   "id": "6323ef33-8b97-416f-a79e-b334bb39f397",
   "metadata": {},
   "outputs": [
    {
     "name": "stdout",
     "output_type": "stream",
     "text": [
      "Train Scores : [1.0, 1.0, 1.0, 1.0]\n",
      "Test Scores : [0.965034965034965, 0.958041958041958, 0.9300699300699301, 0.8881118881118881]\n"
     ]
    }
   ],
   "source": [
    "train_scores =[]\n",
    "test_scores=[]\n",
    "p_parameter=range(1,5)\n",
    "for p in p_parameter:\n",
    "    train_score,test_score=knn_model(X,y)\n",
    "    train_scores.append(train_score)\n",
    "    test_scores.append(test_score)\n",
    "print(f\"Train Scores : {train_scores}\")\n",
    "print(f\"Test Scores : {test_scores}\")"
   ]
  },
  {
   "cell_type": "markdown",
   "id": "87d72932-f345-4353-bf1e-43b5f8cc564d",
   "metadata": {},
   "source": [
    "## when n=3 weight is uniform p range 1 to 4"
   ]
  },
  {
   "cell_type": "code",
   "execution_count": 177,
   "id": "673a81b6-161b-413b-b63c-8f3e5a1812f3",
   "metadata": {},
   "outputs": [],
   "source": [
    "def knn_model(X,y,n=3):\n",
    "    X_train,X_test,y_train,y_test=train_test_split(X,y)\n",
    "    model = KNeighborsClassifier(n,p=1)\n",
    "    model.fit(X_train,y_train)\n",
    "    train_score =model.score(X_train,y_train)\n",
    "    test_score =model.score(X_test,y_test)\n",
    "    return train_score,test_score"
   ]
  },
  {
   "cell_type": "code",
   "execution_count": 179,
   "id": "9cc4d230-86ea-4e4f-a9d2-13574c6db03a",
   "metadata": {},
   "outputs": [
    {
     "name": "stdout",
     "output_type": "stream",
     "text": [
      "Train Scores : [0.9577464788732394, 0.9741784037558685, 0.9671361502347418, 0.9530516431924883]\n",
      "Test Scores : [0.9440559440559441, 0.9300699300699301, 0.916083916083916, 0.958041958041958]\n"
     ]
    }
   ],
   "source": [
    "train_scores =[]\n",
    "test_scores=[]\n",
    "p_parameter=range(1,5)\n",
    "for p in p_parameter:\n",
    "    train_score,test_score=knn_model(X,y)\n",
    "    train_scores.append(train_score)\n",
    "    test_scores.append(test_score)\n",
    "print(f\"Train Scores : {train_scores}\")\n",
    "print(f\"Test Scores : {test_scores}\")"
   ]
  },
  {
   "cell_type": "markdown",
   "id": "cf7bb7b9-46b8-4352-8072-078aedb1c784",
   "metadata": {},
   "source": [
    "##  when n=3 weight is distance p range 1 to 4"
   ]
  },
  {
   "cell_type": "code",
   "execution_count": 190,
   "id": "58420879-08ba-4ca6-bbd4-4ca3673ec639",
   "metadata": {},
   "outputs": [],
   "source": [
    "def knn_model(X,y,n=5):\n",
    "    X_train,X_test,y_train,y_test=train_test_split(X,y)\n",
    "    model = KNeighborsClassifier(n,p=1,weights='distance')\n",
    "    model.fit(X_train,y_train)\n",
    "    train_score =model.score(X_train,y_train)\n",
    "    test_score =model.score(X_test,y_test)\n",
    "    return train_score,test_score"
   ]
  },
  {
   "cell_type": "code",
   "execution_count": 192,
   "id": "c2a568d4-2fa6-4856-96d5-15e91ccc6b02",
   "metadata": {},
   "outputs": [
    {
     "name": "stdout",
     "output_type": "stream",
     "text": [
      "Train Scores : [1.0, 1.0, 1.0, 1.0]\n",
      "Test Scores : [0.9300699300699301, 0.9370629370629371, 0.9300699300699301, 0.9090909090909091]\n"
     ]
    }
   ],
   "source": [
    "train_scores =[]\n",
    "test_scores=[]\n",
    "p_parameter=range(1,5)\n",
    "for p in p_parameter:\n",
    "    train_score,test_score=knn_model(X,y)\n",
    "    train_scores.append(train_score)\n",
    "    test_scores.append(test_score)\n",
    "print(f\"Train Scores : {train_scores}\")\n",
    "print(f\"Test Scores : {test_scores}\")"
   ]
  },
  {
   "cell_type": "code",
   "execution_count": null,
   "id": "76497e5b-aabb-45a8-8c4e-a97ff45c7194",
   "metadata": {},
   "outputs": [],
   "source": []
  }
 ],
 "metadata": {
  "kernelspec": {
   "display_name": "Python [conda env:base] *",
   "language": "python",
   "name": "conda-base-py"
  },
  "language_info": {
   "codemirror_mode": {
    "name": "ipython",
    "version": 3
   },
   "file_extension": ".py",
   "mimetype": "text/x-python",
   "name": "python",
   "nbconvert_exporter": "python",
   "pygments_lexer": "ipython3",
   "version": "3.12.7"
  }
 },
 "nbformat": 4,
 "nbformat_minor": 5
}
