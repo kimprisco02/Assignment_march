{
 "cells": [
  {
   "cell_type": "markdown",
   "id": "3acdbf55-745b-4a4a-8d97-e9ff93938c00",
   "metadata": {},
   "source": [
    "## 1"
   ]
  },
  {
   "cell_type": "code",
   "execution_count": 13,
   "id": "c1363d17-81d7-4e21-be9b-cf607daf3f55",
   "metadata": {},
   "outputs": [],
   "source": [
    "def sum_list(number):\n",
    "    total=0\n",
    "    for number in input_list:\n",
    "        total+=number\n",
    "        return total"
   ]
  },
  {
   "cell_type": "markdown",
   "id": "fbf67448-41ad-4758-bc73-3a8325e14958",
   "metadata": {},
   "source": [
    "## 2:write a python function that takes in two list of equal sizes then return a list having the product of the corresponding values e.g inputs a=[2,4,6], b=[7,6,4] and output =[14,24,24]\n"
   ]
  },
  {
   "cell_type": "code",
   "execution_count": 16,
   "id": "a91f267b-3b10-49c6-80c1-6ad28a28e527",
   "metadata": {},
   "outputs": [],
   "source": [
    "def product_value(list1,list2):\n",
    "    if len(list1) != len(list2):\n",
    "        return None\n",
    "    result=[] \n",
    "    for i in range(len(list1)):\n",
    "        product=list1[i]*list2[i]\n",
    "        result.append(product)\n",
    "        return result"
   ]
  },
  {
   "cell_type": "markdown",
   "id": "e7cca1d5-00cb-49b6-b27c-ec698dc9ded6",
   "metadata": {},
   "source": [
    "## 3:"
   ]
  },
  {
   "cell_type": "code",
   "execution_count": null,
   "id": "57207b44-3307-4065-bb40-a68d16f724e5",
   "metadata": {},
   "outputs": [],
   "source": [
    "def square_list(input_list):\n",
    "    squared_list=[]\n",
    "    for number in input_list:\n",
    "        squared= number**2\n",
    "        squared_list.append(squared)\n",
    "        return squared_list\n"
   ]
  }
 ],
 "metadata": {
  "kernelspec": {
   "display_name": "Python [conda env:base] *",
   "language": "python",
   "name": "conda-base-py"
  },
  "language_info": {
   "codemirror_mode": {
    "name": "ipython",
    "version": 3
   },
   "file_extension": ".py",
   "mimetype": "text/x-python",
   "name": "python",
   "nbconvert_exporter": "python",
   "pygments_lexer": "ipython3",
   "version": "3.12.7"
  }
 },
 "nbformat": 4,
 "nbformat_minor": 5
}
